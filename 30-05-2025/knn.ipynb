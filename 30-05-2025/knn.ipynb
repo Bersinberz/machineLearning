{
 "cells": [
  {
   "cell_type": "code",
   "execution_count": 15,
   "id": "01219323",
   "metadata": {},
   "outputs": [],
   "source": [
    "import numpy as np\n",
    "from sklearn.datasets import load_iris\n",
    "from sklearn.model_selection import train_test_split\n",
    "from sklearn.neighbors import KNeighborsClassifier\n",
    "from sklearn.metrics import accuracy_score"
   ]
  },
  {
   "cell_type": "code",
   "execution_count": 16,
   "id": "c62d439c",
   "metadata": {},
   "outputs": [],
   "source": [
    "\n",
    "x, y = load_iris(return_X_y=True)\n",
    "\n",
    "x_train, x_test, y_train, y_test = train_test_split(x, y, test_size=0.2, random_state=42)"
   ]
  },
  {
   "cell_type": "code",
   "execution_count": 20,
   "id": "2b09343a",
   "metadata": {},
   "outputs": [],
   "source": [
    "acc = []\n",
    "\n",
    "for k in range(1,21):\n",
    "    knn = KNeighborsClassifier()\n",
    "    knn.fit(x_train, y_train)\n",
    "    y_pred = knn.predict(x_test)\n",
    "    accuracy = accuracy_score(y_pred, y_test)\n",
    "    acc.append(accuracy)"
   ]
  },
  {
   "cell_type": "code",
   "execution_count": 21,
   "id": "97d1690e",
   "metadata": {},
   "outputs": [
    {
     "name": "stdout",
     "output_type": "stream",
     "text": [
      "Best k: 1\n",
      "Validation Accuracy: 1.0000\n"
     ]
    }
   ],
   "source": [
    "best_of_k = range(1,21)[np.argmax(acc)]\n",
    "best_acc = max(acc)\n",
    "\n",
    "print(f\"Best k: {best_of_k}\")\n",
    "print(f\"Validation Accuracy: {best_acc:.4f}\")"
   ]
  }
 ],
 "metadata": {
  "kernelspec": {
   "display_name": "Python 3",
   "language": "python",
   "name": "python3"
  },
  "language_info": {
   "codemirror_mode": {
    "name": "ipython",
    "version": 3
   },
   "file_extension": ".py",
   "mimetype": "text/x-python",
   "name": "python",
   "nbconvert_exporter": "python",
   "pygments_lexer": "ipython3",
   "version": "3.13.3"
  }
 },
 "nbformat": 4,
 "nbformat_minor": 5
}
