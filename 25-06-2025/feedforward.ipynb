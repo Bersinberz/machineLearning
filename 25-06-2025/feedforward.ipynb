{
 "cells": [
  {
   "cell_type": "code",
   "id": "initial_id",
   "metadata": {
    "collapsed": true,
    "ExecuteTime": {
     "end_time": "2025-06-25T18:03:44.502970Z",
     "start_time": "2025-06-25T18:03:44.497420Z"
    }
   },
   "source": [
    "import torch\n",
    "import torch.nn as nn\n",
    "from sklearn.datasets import load_iris\n",
    "from sklearn.model_selection import train_test_split\n",
    "from sklearn.preprocessing import StandardScaler\n",
    "import torch.optim as optim\n",
    "from sklearn.metrics import accuracy_score"
   ],
   "outputs": [],
   "execution_count": 12
  },
  {
   "metadata": {
    "ExecuteTime": {
     "end_time": "2025-06-25T17:59:50.153515Z",
     "start_time": "2025-06-25T17:59:50.126663Z"
    }
   },
   "cell_type": "code",
   "source": [
    "iris = load_iris()\n",
    "X = iris.data\n",
    "y = iris.target"
   ],
   "id": "870fcdd1bdb32699",
   "outputs": [],
   "execution_count": 2
  },
  {
   "metadata": {
    "ExecuteTime": {
     "end_time": "2025-06-25T17:59:50.660479Z",
     "start_time": "2025-06-25T17:59:50.655206Z"
    }
   },
   "cell_type": "code",
   "source": "X_train, X_test, y_train, y_test = train_test_split(X, y, test_size=0.2, random_state=42)",
   "id": "42a7339db1e5b83f",
   "outputs": [],
   "execution_count": 3
  },
  {
   "metadata": {
    "ExecuteTime": {
     "end_time": "2025-06-25T17:59:50.768567Z",
     "start_time": "2025-06-25T17:59:50.764936Z"
    }
   },
   "cell_type": "code",
   "source": [
    "scalar = StandardScaler()\n",
    "X_train = scalar.fit_transform(X_train)\n",
    "X_test = scalar.transform(X_test)"
   ],
   "id": "a97bd9381ea43b36",
   "outputs": [],
   "execution_count": 4
  },
  {
   "metadata": {
    "ExecuteTime": {
     "end_time": "2025-06-25T18:01:17.870998Z",
     "start_time": "2025-06-25T18:01:17.867728Z"
    }
   },
   "cell_type": "code",
   "source": [
    "X_train = torch.FloatTensor(X_train)\n",
    "X_test = torch.FloatTensor(X_test)\n",
    "y_train = torch.LongTensor(y_train)\n",
    "y_test = torch.LongTensor(y_test)"
   ],
   "id": "ff7a7b630d0023ec",
   "outputs": [],
   "execution_count": 6
  },
  {
   "metadata": {
    "ExecuteTime": {
     "end_time": "2025-06-25T18:01:45.192006Z",
     "start_time": "2025-06-25T18:01:45.177865Z"
    }
   },
   "cell_type": "code",
   "source": [
    "class IrisNet(nn.Module):\n",
    "    def __init__(self):\n",
    "        super(IrisNet, self).__init__()\n",
    "        self.fc1 = nn.Linear(4, 16)\n",
    "        self.relu = nn.ReLU()\n",
    "        self.fc2 = nn.Linear(16, 3)\n",
    "\n",
    "    def forward(self, x):\n",
    "        out = self.fc1(x)\n",
    "        out = self.relu(out)\n",
    "        out = self.fc2(out)\n",
    "        return out"
   ],
   "id": "b2a93c155e2b9683",
   "outputs": [],
   "execution_count": 7
  },
  {
   "metadata": {
    "ExecuteTime": {
     "end_time": "2025-06-25T18:02:44.140669Z",
     "start_time": "2025-06-25T18:02:41.926260Z"
    }
   },
   "cell_type": "code",
   "source": [
    "model = IrisNet()\n",
    "\n",
    "criterion = nn.CrossEntropyLoss()\n",
    "optimizer = optim.Adam(model.parameters(), lr=0.01)"
   ],
   "id": "68121317b037b129",
   "outputs": [],
   "execution_count": 10
  },
  {
   "metadata": {
    "ExecuteTime": {
     "end_time": "2025-06-25T18:02:54.098917Z",
     "start_time": "2025-06-25T18:02:53.926412Z"
    }
   },
   "cell_type": "code",
   "source": [
    "epochs = 100\n",
    "for epoch in range(epochs):\n",
    "    # Forward pass\n",
    "    outputs = model(X_train)\n",
    "    loss = criterion(outputs, y_train)\n",
    "\n",
    "    # Backward and optimize\n",
    "    optimizer.zero_grad()\n",
    "    loss.backward()\n",
    "    optimizer.step()\n",
    "\n",
    "    if (epoch + 1) % 10 == 0:\n",
    "        print(f\"Epoch [{epoch+1}/{epochs}], Loss: {loss.item():.4f}\")"
   ],
   "id": "4da669e471348973",
   "outputs": [
    {
     "name": "stdout",
     "output_type": "stream",
     "text": [
      "Epoch [10/100], Loss: 0.7267\n",
      "Epoch [20/100], Loss: 0.4640\n",
      "Epoch [30/100], Loss: 0.3323\n",
      "Epoch [40/100], Loss: 0.2565\n",
      "Epoch [50/100], Loss: 0.1981\n",
      "Epoch [60/100], Loss: 0.1505\n",
      "Epoch [70/100], Loss: 0.1179\n",
      "Epoch [80/100], Loss: 0.0969\n",
      "Epoch [90/100], Loss: 0.0832\n",
      "Epoch [100/100], Loss: 0.0740\n"
     ]
    }
   ],
   "execution_count": 11
  },
  {
   "metadata": {
    "ExecuteTime": {
     "end_time": "2025-06-25T18:03:48.081985Z",
     "start_time": "2025-06-25T18:03:48.064014Z"
    }
   },
   "cell_type": "code",
   "source": [
    "with torch.no_grad():\n",
    "    outputs = model(X_test)\n",
    "    _, predicted = torch.max(outputs.data, 1)\n",
    "\n",
    "    acc = accuracy_score(y_test, predicted)\n",
    "    print(f\"\\nTest Accuracy: {acc * 100:.2f}%\")"
   ],
   "id": "6f3316ceb76f05dc",
   "outputs": [
    {
     "name": "stdout",
     "output_type": "stream",
     "text": [
      "\n",
      "Test Accuracy: 100.00%\n"
     ]
    }
   ],
   "execution_count": 13
  },
  {
   "metadata": {
    "ExecuteTime": {
     "end_time": "2025-06-25T18:03:57.812140Z",
     "start_time": "2025-06-25T18:03:57.805118Z"
    }
   },
   "cell_type": "code",
   "source": [
    "print(\"\\nSample Predictions:\")\n",
    "for i in range(5):\n",
    "    print(f\"True: {y_test[i].item()}, Predicted: {predicted[i].item()}\")"
   ],
   "id": "c833c52c0f8f959b",
   "outputs": [
    {
     "name": "stdout",
     "output_type": "stream",
     "text": [
      "\n",
      "Sample Predictions:\n",
      "True: 1, Predicted: 1\n",
      "True: 0, Predicted: 0\n",
      "True: 2, Predicted: 2\n",
      "True: 1, Predicted: 1\n",
      "True: 1, Predicted: 1\n"
     ]
    }
   ],
   "execution_count": 14
  },
  {
   "metadata": {},
   "cell_type": "code",
   "outputs": [],
   "execution_count": null,
   "source": "",
   "id": "2a45b6c1ca0664a3"
  }
 ],
 "metadata": {
  "kernelspec": {
   "display_name": "Python 3",
   "language": "python",
   "name": "python3"
  },
  "language_info": {
   "codemirror_mode": {
    "name": "ipython",
    "version": 2
   },
   "file_extension": ".py",
   "mimetype": "text/x-python",
   "name": "python",
   "nbconvert_exporter": "python",
   "pygments_lexer": "ipython2",
   "version": "2.7.6"
  }
 },
 "nbformat": 4,
 "nbformat_minor": 5
}
