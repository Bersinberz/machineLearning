{
 "cells": [
  {
   "cell_type": "code",
   "execution_count": 2,
   "id": "44a85fc9",
   "metadata": {},
   "outputs": [],
   "source": [
    "import pandas as pd"
   ]
  },
  {
   "cell_type": "code",
   "execution_count": 3,
   "id": "6ac8390d",
   "metadata": {},
   "outputs": [],
   "source": [
    "data = pd.read_csv('student-mat.csv')"
   ]
  },
  {
   "cell_type": "code",
   "execution_count": 4,
   "id": "e6f5a761",
   "metadata": {},
   "outputs": [
    {
     "name": "stdout",
     "output_type": "stream",
     "text": [
      "<class 'pandas.core.frame.DataFrame'>\n",
      "RangeIndex: 395 entries, 0 to 394\n",
      "Data columns (total 33 columns):\n",
      " #   Column      Non-Null Count  Dtype \n",
      "---  ------      --------------  ----- \n",
      " 0   school      395 non-null    object\n",
      " 1   sex         395 non-null    object\n",
      " 2   age         395 non-null    int64 \n",
      " 3   address     395 non-null    object\n",
      " 4   famsize     395 non-null    object\n",
      " 5   Pstatus     395 non-null    object\n",
      " 6   Medu        395 non-null    int64 \n",
      " 7   Fedu        395 non-null    int64 \n",
      " 8   Mjob        395 non-null    object\n",
      " 9   Fjob        395 non-null    object\n",
      " 10  reason      395 non-null    object\n",
      " 11  guardian    395 non-null    object\n",
      " 12  traveltime  395 non-null    int64 \n",
      " 13  studytime   395 non-null    int64 \n",
      " 14  failures    395 non-null    int64 \n",
      " 15  schoolsup   395 non-null    object\n",
      " 16  famsup      395 non-null    object\n",
      " 17  paid        395 non-null    object\n",
      " 18  activities  395 non-null    object\n",
      " 19  nursery     395 non-null    object\n",
      " 20  higher      395 non-null    object\n",
      " 21  internet    395 non-null    object\n",
      " 22  romantic    395 non-null    object\n",
      " 23  famrel      395 non-null    int64 \n",
      " 24  freetime    395 non-null    int64 \n",
      " 25  goout       395 non-null    int64 \n",
      " 26  Dalc        395 non-null    int64 \n",
      " 27  Walc        395 non-null    int64 \n",
      " 28  health      395 non-null    int64 \n",
      " 29  absences    395 non-null    int64 \n",
      " 30  G1          395 non-null    int64 \n",
      " 31  G2          395 non-null    int64 \n",
      " 32  G3          395 non-null    int64 \n",
      "dtypes: int64(16), object(17)\n",
      "memory usage: 102.0+ KB\n",
      "None\n"
     ]
    }
   ],
   "source": [
    "print(data.info())"
   ]
  },
  {
   "cell_type": "code",
   "execution_count": 5,
   "id": "774f2e12",
   "metadata": {},
   "outputs": [
    {
     "name": "stdout",
     "output_type": "stream",
     "text": [
      "              age        Medu        Fedu  traveltime   studytime    failures  \\\n",
      "count  395.000000  395.000000  395.000000  395.000000  395.000000  395.000000   \n",
      "mean    16.696203    2.749367    2.521519    1.448101    2.035443    0.334177   \n",
      "std      1.276043    1.094735    1.088201    0.697505    0.839240    0.743651   \n",
      "min     15.000000    0.000000    0.000000    1.000000    1.000000    0.000000   \n",
      "25%     16.000000    2.000000    2.000000    1.000000    1.000000    0.000000   \n",
      "50%     17.000000    3.000000    2.000000    1.000000    2.000000    0.000000   \n",
      "75%     18.000000    4.000000    3.000000    2.000000    2.000000    0.000000   \n",
      "max     22.000000    4.000000    4.000000    4.000000    4.000000    3.000000   \n",
      "\n",
      "           famrel    freetime       goout        Dalc        Walc      health  \\\n",
      "count  395.000000  395.000000  395.000000  395.000000  395.000000  395.000000   \n",
      "mean     3.944304    3.235443    3.108861    1.481013    2.291139    3.554430   \n",
      "std      0.896659    0.998862    1.113278    0.890741    1.287897    1.390303   \n",
      "min      1.000000    1.000000    1.000000    1.000000    1.000000    1.000000   \n",
      "25%      4.000000    3.000000    2.000000    1.000000    1.000000    3.000000   \n",
      "50%      4.000000    3.000000    3.000000    1.000000    2.000000    4.000000   \n",
      "75%      5.000000    4.000000    4.000000    2.000000    3.000000    5.000000   \n",
      "max      5.000000    5.000000    5.000000    5.000000    5.000000    5.000000   \n",
      "\n",
      "         absences          G1          G2          G3  \n",
      "count  395.000000  395.000000  395.000000  395.000000  \n",
      "mean     5.708861   10.908861   10.713924   10.415190  \n",
      "std      8.003096    3.319195    3.761505    4.581443  \n",
      "min      0.000000    3.000000    0.000000    0.000000  \n",
      "25%      0.000000    8.000000    9.000000    8.000000  \n",
      "50%      4.000000   11.000000   11.000000   11.000000  \n",
      "75%      8.000000   13.000000   13.000000   14.000000  \n",
      "max     75.000000   19.000000   19.000000   20.000000  \n"
     ]
    }
   ],
   "source": [
    "print(data.describe())"
   ]
  },
  {
   "cell_type": "code",
   "execution_count": 6,
   "id": "de8a9b54",
   "metadata": {},
   "outputs": [
    {
     "name": "stdout",
     "output_type": "stream",
     "text": [
      "school        0\n",
      "sex           0\n",
      "age           0\n",
      "address       0\n",
      "famsize       0\n",
      "Pstatus       0\n",
      "Medu          0\n",
      "Fedu          0\n",
      "Mjob          0\n",
      "Fjob          0\n",
      "reason        0\n",
      "guardian      0\n",
      "traveltime    0\n",
      "studytime     0\n",
      "failures      0\n",
      "schoolsup     0\n",
      "famsup        0\n",
      "paid          0\n",
      "activities    0\n",
      "nursery       0\n",
      "higher        0\n",
      "internet      0\n",
      "romantic      0\n",
      "famrel        0\n",
      "freetime      0\n",
      "goout         0\n",
      "Dalc          0\n",
      "Walc          0\n",
      "health        0\n",
      "absences      0\n",
      "G1            0\n",
      "G2            0\n",
      "G3            0\n",
      "dtype: int64\n"
     ]
    }
   ],
   "source": [
    "print(data.isnull().sum())"
   ]
  },
  {
   "cell_type": "code",
   "execution_count": 7,
   "id": "202a4f28",
   "metadata": {},
   "outputs": [],
   "source": [
    "encoded_data = pd.get_dummies(data, drop_first=True)"
   ]
  },
  {
   "cell_type": "code",
   "execution_count": 8,
   "id": "2af98aed",
   "metadata": {},
   "outputs": [
    {
     "name": "stdout",
     "output_type": "stream",
     "text": [
      "   age  Medu  Fedu  traveltime  studytime  failures  famrel  freetime  goout  \\\n",
      "0   18     4     4           2          2         0       4         3      4   \n",
      "1   17     1     1           1          2         0       5         3      3   \n",
      "2   15     1     1           1          2         3       4         3      2   \n",
      "3   15     4     2           1          3         0       3         2      2   \n",
      "4   16     3     3           1          2         0       4         3      2   \n",
      "5   16     4     3           1          2         0       5         4      2   \n",
      "6   16     2     2           1          2         0       4         4      4   \n",
      "7   17     4     4           2          2         0       4         1      4   \n",
      "8   15     3     2           1          2         0       4         2      2   \n",
      "9   15     3     4           1          2         0       5         5      1   \n",
      "\n",
      "   Dalc  ...  guardian_mother  guardian_other  schoolsup_yes  famsup_yes  \\\n",
      "0     1  ...             True           False           True       False   \n",
      "1     1  ...            False           False          False        True   \n",
      "2     2  ...             True           False           True       False   \n",
      "3     1  ...             True           False          False        True   \n",
      "4     1  ...            False           False          False        True   \n",
      "5     1  ...             True           False          False        True   \n",
      "6     1  ...             True           False          False       False   \n",
      "7     1  ...             True           False           True        True   \n",
      "8     1  ...             True           False          False        True   \n",
      "9     1  ...             True           False          False        True   \n",
      "\n",
      "   paid_yes  activities_yes  nursery_yes  higher_yes  internet_yes  \\\n",
      "0     False           False         True        True         False   \n",
      "1     False           False        False        True          True   \n",
      "2      True           False         True        True          True   \n",
      "3      True            True         True        True          True   \n",
      "4      True           False         True        True         False   \n",
      "5      True            True         True        True          True   \n",
      "6     False           False         True        True          True   \n",
      "7     False           False         True        True         False   \n",
      "8      True           False         True        True          True   \n",
      "9      True            True         True        True          True   \n",
      "\n",
      "   romantic_yes  \n",
      "0         False  \n",
      "1         False  \n",
      "2         False  \n",
      "3          True  \n",
      "4         False  \n",
      "5         False  \n",
      "6         False  \n",
      "7         False  \n",
      "8         False  \n",
      "9         False  \n",
      "\n",
      "[10 rows x 42 columns]\n"
     ]
    }
   ],
   "source": [
    "print(encoded_data.head(10))"
   ]
  },
  {
   "cell_type": "code",
   "execution_count": 9,
   "id": "195c73ad",
   "metadata": {},
   "outputs": [
    {
     "name": "stdout",
     "output_type": "stream",
     "text": [
      "age                  0\n",
      "Medu                 0\n",
      "Fedu                 0\n",
      "traveltime           0\n",
      "studytime            0\n",
      "failures             0\n",
      "famrel               0\n",
      "freetime             0\n",
      "goout                0\n",
      "Dalc                 0\n",
      "Walc                 0\n",
      "health               0\n",
      "absences             0\n",
      "G1                   0\n",
      "G2                   0\n",
      "G3                   0\n",
      "school_MS            0\n",
      "sex_M                0\n",
      "address_U            0\n",
      "famsize_LE3          0\n",
      "Pstatus_T            0\n",
      "Mjob_health          0\n",
      "Mjob_other           0\n",
      "Mjob_services        0\n",
      "Mjob_teacher         0\n",
      "Fjob_health          0\n",
      "Fjob_other           0\n",
      "Fjob_services        0\n",
      "Fjob_teacher         0\n",
      "reason_home          0\n",
      "reason_other         0\n",
      "reason_reputation    0\n",
      "guardian_mother      0\n",
      "guardian_other       0\n",
      "schoolsup_yes        0\n",
      "famsup_yes           0\n",
      "paid_yes             0\n",
      "activities_yes       0\n",
      "nursery_yes          0\n",
      "higher_yes           0\n",
      "internet_yes         0\n",
      "romantic_yes         0\n",
      "dtype: int64\n"
     ]
    }
   ],
   "source": [
    "print(encoded_data.isnull().sum())"
   ]
  },
  {
   "cell_type": "code",
   "execution_count": 10,
   "id": "a3bf6581",
   "metadata": {},
   "outputs": [
    {
     "name": "stdout",
     "output_type": "stream",
     "text": [
      "   G1  G2  G3  studytime  failures  absences  goout\n",
      "0   5   6   6          2         0         6      4\n",
      "1   5   5   6          2         0         4      3\n",
      "2   7   8  10          2         3        10      2\n",
      "3  15  14  15          3         0         2      2\n",
      "4   6  10  10          2         0         4      2\n"
     ]
    }
   ],
   "source": [
    "selected_features = ['G1', 'G2','G3', 'studytime', 'failures', 'absences', 'goout']\n",
    "df_selected = encoded_data[selected_features].copy()\n",
    "\n",
    "print(df_selected.head())"
   ]
  },
  {
   "cell_type": "code",
   "execution_count": 11,
   "id": "3b184b9a",
   "metadata": {},
   "outputs": [
    {
     "name": "stdout",
     "output_type": "stream",
     "text": [
      "    G1  G2  G3  studytime  failures  absences  goout  avg_grade  \\\n",
      "0    5   6   6          2         0         6      4        5.5   \n",
      "1    5   5   6          2         0         4      3        5.0   \n",
      "2    7   8  10          2         3        10      2        7.5   \n",
      "3   15  14  15          3         0         2      2       14.5   \n",
      "4    6  10  10          2         0         4      2        8.0   \n",
      "5   15  15  15          2         0        10      2       15.0   \n",
      "6   12  12  11          2         0         0      4       12.0   \n",
      "7    6   5   6          2         0         6      4        5.5   \n",
      "8   16  18  19          2         0         0      2       17.0   \n",
      "9   14  15  15          2         0         0      1       14.5   \n",
      "10  10   8   9          2         0         0      3        9.0   \n",
      "11  10  12  12          3         0         4      2       11.0   \n",
      "12  14  14  14          1         0         2      3       14.0   \n",
      "13  10  10  11          2         0         2      3       10.0   \n",
      "14  14  16  16          3         0         0      2       15.0   \n",
      "15  14  14  14          1         0         4      4       14.0   \n",
      "16  13  14  14          3         0         6      3       13.5   \n",
      "17   8  10  10          2         0         4      2        9.0   \n",
      "18   6   5   5          1         3        16      5        5.5   \n",
      "19   8  10  10          1         0         4      3        9.0   \n",
      "\n",
      "    engagement_score  \n",
      "0                 -2  \n",
      "1                 -1  \n",
      "2                  0  \n",
      "3                  1  \n",
      "4                  0  \n",
      "5                  0  \n",
      "6                 -2  \n",
      "7                 -2  \n",
      "8                  0  \n",
      "9                  1  \n",
      "10                -1  \n",
      "11                 1  \n",
      "12                -2  \n",
      "13                -1  \n",
      "14                 1  \n",
      "15                -3  \n",
      "16                 0  \n",
      "17                 0  \n",
      "18                -4  \n",
      "19                -2  \n"
     ]
    }
   ],
   "source": [
    "df_selected['avg_grade'] = (encoded_data['G1'] + encoded_data['G2']) / 2\n",
    "df_selected['engagement_score'] = encoded_data['studytime'] - encoded_data['goout']\n",
    "print(df_selected.head(20))"
   ]
  },
  {
   "cell_type": "code",
   "execution_count": 12,
   "id": "62b375a1",
   "metadata": {},
   "outputs": [
    {
     "data": {
      "image/png": "[encoded data removed]",
      "text/plain": [
       "<Figure size 640x480 with 1 Axes>"
      ]
     },
     "metadata": {},
     "output_type": "display_data"
    },
    {
     "name": "stdout",
     "output_type": "stream",
     "text": [
      "Mean Squared Error (MSE): 4.63\n",
      "Root Mean Squared Error (RMSE): 2.15\n",
      "R² Score: 0.77\n"
     ]
    }
   ],
   "source": [
    "import numpy as np\n",
    "import matplotlib.pyplot as plt\n",
    "from sklearn.model_selection import train_test_split\n",
    "from sklearn.metrics import mean_squared_error, r2_score\n",
    "\n",
    "features = ['G1', 'G2', 'studytime', 'failures', 'absences', 'avg_grade', 'engagement_score']\n",
    "target = 'G3'\n",
    "\n",
    "x = df_selected[features].values\n",
    "y = df_selected[target].values\n",
    "\n",
    "X = (x - x.mean(axis=0)) / x.std(axis=0)\n",
    "\n",
    "X = np.c_[np.ones(X.shape[0]), X]\n",
    "\n",
    "X_train, X_test, y_train, y_test = train_test_split(X, y, test_size=0.2, random_state=42)\n",
    "\n",
    "def fit(X, y, learning_rate=0.01, epochs=1000):\n",
    "    weights = np.zeros(X.shape[1])\n",
    "    losses = []\n",
    "\n",
    "    for i in range(epochs):\n",
    "        y_pred = X.dot(weights)\n",
    "        error = y_pred - y\n",
    "        loss = (error ** 2).mean()\n",
    "        losses.append(loss)\n",
    "\n",
    "        gradient = X.T.dot(error) / X.shape[0]\n",
    "        weights -= learning_rate * gradient\n",
    "\n",
    "    return weights, losses\n",
    "\n",
    "def predict(X, weights):\n",
    "    return X.dot(weights)\n",
    "\n",
    "weights, losses = fit(X_train, y_train, learning_rate=0.01, epochs=1000)\n",
    "\n",
    "plt.plot(losses)\n",
    "plt.xlabel(\"Epochs\")\n",
    "plt.ylabel(\"Mean Squared Error\")\n",
    "plt.title(\"Training Loss over Epochs\")\n",
    "plt.grid(True)\n",
    "plt.show()\n",
    "\n",
    "y_test_pred = predict(X_test, weights)\n",
    "\n",
    "mse = mean_squared_error(y_test, y_test_pred)\n",
    "rmse = np.sqrt(mse)\n",
    "r2 = r2_score(y_test, y_test_pred)\n",
    "\n",
    "print(f\"Mean Squared Error (MSE): {mse:.2f}\")\n",
    "print(f\"Root Mean Squared Error (RMSE): {rmse:.2f}\")\n",
    "print(f\"R² Score: {r2:.2f}\")\n"
   ]
  },
  {
   "cell_type": "code",
   "execution_count": 14,
   "id": "18ffaefa",
   "metadata": {},
   "outputs": [
    {
     "name": "stdout",
     "output_type": "stream",
     "text": [
      "Intercept: 10.325949367088608\n",
      "Coefficients: [-0.2522873   2.85872004  0.08750337 -0.34725706  0.33084781  1.48636183\n",
      " -0.23359508]\n",
      "Mean Squared Error: 4.637454117855932\n",
      "R² Score: 0.7738384087961517\n"
     ]
    }
   ],
   "source": [
    "from sklearn.linear_model import LinearRegression\n",
    "from sklearn.preprocessing import StandardScaler\n",
    "from sklearn.metrics import accuracy_score\n",
    "\n",
    "x = df_selected[features].values\n",
    "y = df_selected[target].values\n",
    "\n",
    "X_train, X_test, y_train, y_test = train_test_split(x, y, test_size=0.2, random_state=42)\n",
    "\n",
    "scaler = StandardScaler()\n",
    "X_train_scaled = scaler.fit_transform(X_train)\n",
    "X_test_scaled = scaler.transform(X_test)\n",
    "\n",
    "model = LinearRegression()\n",
    "model.fit(X_train_scaled,y_train)\n",
    "\n",
    "y_pred = model.predict(X_test_scaled)\n",
    "\n",
    "print(\"Intercept:\", model.intercept_)\n",
    "print(\"Coefficients:\", model.coef_)\n",
    "\n",
    "mse = mean_squared_error(y_test, y_pred)\n",
    "r2 = r2_score(y_test, y_pred)\n",
    "\n",
    "print(\"Mean Squared Error:\", mse)\n",
    "print(\"R² Score:\", r2)"
   ]
  },
  {
   "cell_type": "code",
   "execution_count": 15,
   "id": "a1d8f99e",
   "metadata": {},
   "outputs": [
    {
     "data": {
      "image/png": "[encoded data removed]",
      "text/plain": [
       "<Figure size 800x600 with 1 Axes>"
      ]
     },
     "metadata": {},
     "output_type": "display_data"
    }
   ],
   "source": [
    "import seaborn as sns\n",
    "plt.figure(figsize=(8, 6))\n",
    "sns.regplot(x=y_test, y=y_pred)\n",
    "plt.xlabel('Actual G3')\n",
    "plt.ylabel('Predicted G3')\n",
    "plt.title('Actual vs Predicted G3')\n",
    "plt.grid(True)\n",
    "plt.show()"
   ]
  },
  {
   "cell_type": "code",
   "execution_count": 30,
   "id": "a4a76df4",
   "metadata": {},
   "outputs": [
    {
     "data": {
      "image/png": "[encoded data removed]",
      "text/plain": [
       "<Figure size 800x600 with 1 Axes>"
      ]
     },
     "metadata": {},
     "output_type": "display_data"
    }
   ],
   "source": [
    "residuals = y_test - y_pred\n",
    "\n",
    "plt.figure(figsize=(8, 6))\n",
    "sns.residplot(x=y_pred, y=residuals, color=\"purple\")\n",
    "plt.xlabel('Predicted G3')\n",
    "plt.ylabel('Residuals')\n",
    "plt.title('Residual Plot')\n",
    "plt.grid(True)\n",
    "plt.axhline(0, color='red', linestyle='--')\n",
    "plt.show()"
   ]
  },
  {
   "cell_type": "code",
   "execution_count": 31,
   "id": "eaad63e7",
   "metadata": {},
   "outputs": [
    {
     "name": "stdout",
     "output_type": "stream",
     "text": [
      "MSE: 4.820812174348859\n",
      "R² Score: 0.7648963149742817\n"
     ]
    }
   ],
   "source": [
    "from sklearn.preprocessing import PolynomialFeatures\n",
    "\n",
    "\n",
    "poly = PolynomialFeatures(degree=2)\n",
    "x_train_poly = poly.fit_transform(X_train)\n",
    "x_test_ploy = poly.transform(X_test)\n",
    "\n",
    "poly_model = LinearRegression()\n",
    "poly_model.fit(x_train_poly,y_train)\n",
    "\n",
    "y_pred_poly = poly_model.predict(x_test_ploy)\n",
    "\n",
    "\n",
    "mse_poly = mean_squared_error(y_test, y_pred_poly)\n",
    "r2_poly = r2_score(y_test, y_pred_poly)\n",
    "\n",
    "print(\"MSE:\", mse_poly)\n",
    "print(\"R² Score:\", r2_poly)"
   ]
  },
  {
   "cell_type": "code",
   "execution_count": 34,
   "id": "aed5eb60",
   "metadata": {},
   "outputs": [],
   "source": [
    "from sklearn.metrics import mean_squared_error, mean_absolute_error, r2_score\n",
    "import numpy as np\n",
    "\n",
    "def evaluate_model(y_true, y_pred, model_name=\"Model\"):\n",
    "    mse = mean_squared_error(y_true, y_pred)\n",
    "    rmse = np.sqrt(mse)\n",
    "    mae = mean_absolute_error(y_true, y_pred)\n",
    "    r2 = r2_score(y_true, y_pred)\n",
    "    \n",
    "    print(f\" Evaluation Metrics for {model_name}:\")\n",
    "    print(f\"  . MSE  = {mse:.4f}\")\n",
    "    print(f\"  . RMSE = {rmse:.4f}\")\n",
    "    print(f\"  . MAE  = {mae:.4f}\")\n",
    "    print(f\"  . R²   = {r2:.4f}\\n\")\n"
   ]
  },
  {
   "cell_type": "code",
   "execution_count": 35,
   "id": "9c120885",
   "metadata": {},
   "outputs": [
    {
     "name": "stdout",
     "output_type": "stream",
     "text": [
      " Evaluation Metrics for Linear Regression:\n",
      "  . MSE  = 4.6375\n",
      "  . RMSE = 2.1535\n",
      "  . MAE  = 1.3786\n",
      "  . R²   = 0.7738\n",
      "\n",
      " Evaluation Metrics for Polynomial Regression (Degree 2):\n",
      "  . MSE  = 4.8208\n",
      "  . RMSE = 2.1956\n",
      "  . MAE  = 1.4237\n",
      "  . R²   = 0.7649\n",
      "\n"
     ]
    }
   ],
   "source": [
    "evaluate_model(y_test, y_pred, \"Linear Regression\")\n",
    "\n",
    "evaluate_model(y_test, y_pred_poly, \"Polynomial Regression (Degree 2)\")\n"
   ]
  },
  {
   "cell_type": "code",
   "execution_count": 36,
   "id": "85e4ca45",
   "metadata": {},
   "outputs": [
    {
     "data": {
      "text/plain": [
       "['linear_model.pkl']"
      ]
     },
     "execution_count": 36,
     "metadata": {},
     "output_type": "execute_result"
    }
   ],
   "source": [
    "import joblib\n",
    "\n",
    "joblib.dump(model,'linear_model.pkl')"
   ]
  },
  {
   "cell_type": "code",
   "execution_count": null,
   "id": "318b5da2",
   "metadata": {},
   "outputs": [],
   "source": []
  }
 ],
 "metadata": {
  "kernelspec": {
   "display_name": "Python 3",
   "language": "python",
   "name": "python3"
  },
  "language_info": {
   "codemirror_mode": {
    "name": "ipython",
    "version": 3
   },
   "file_extension": ".py",
   "mimetype": "text/x-python",
   "name": "python",
   "nbconvert_exporter": "python",
   "pygments_lexer": "ipython3",
   "version": "undefined.undefined.undefined"
  }
 },
 "nbformat": 4,
 "nbformat_minor": 5
}
