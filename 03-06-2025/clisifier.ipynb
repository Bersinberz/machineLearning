{
 "cells": [
  {
   "cell_type": "code",
   "execution_count": 5,
   "id": "1dd354f8",
   "metadata": {},
   "outputs": [],
   "source": [
    "import pandas as pd\n",
    "from sklearn.preprocessing import LabelEncoder, StandardScaler\n",
    "from sklearn.model_selection import train_test_split\n",
    "from sklearn.ensemble import RandomForestClassifier\n",
    "from sklearn.metrics import classification_report, confusion_matrix"
   ]
  },
  {
   "cell_type": "code",
   "execution_count": 6,
   "id": "57e3772a",
   "metadata": {},
   "outputs": [],
   "source": [
    "data = pd.read_csv('loan-train.csv')"
   ]
  },
  {
   "cell_type": "code",
   "execution_count": 7,
   "id": "8b82cb55",
   "metadata": {},
   "outputs": [],
   "source": [
    "data.ffill(inplace=True)\n",
    "\n",
    "label_cols = ['Gender','Married','Education','Self_Employed','Property_Area']\n",
    "for col in label_cols:\n",
    "    data[col] = LabelEncoder().fit_transform(data[col])\n",
    "\n",
    "data.drop(['Loan_ID'], axis=1, inplace=True)\n",
    "data['Dependents'] = data['Dependents'].replace('3+', 3).astype(int)\n",
    "\n",
    "X = data.drop(['Loan_Status'], axis=1)\n",
    "y = LabelEncoder().fit_transform(data['Loan_Status'])\n"
   ]
  },
  {
   "cell_type": "code",
   "execution_count": 8,
   "id": "0c68b192",
   "metadata": {},
   "outputs": [],
   "source": [
    "X_train, X_test, y_train, y_test = train_test_split(X, y, test_size=0.2, random_state=42)\n",
    "\n",
    "scaler = StandardScaler()\n",
    "X_train_scaled = scaler.fit_transform(X_train)\n",
    "X_test_scaled = scaler.transform(X_test) \n",
    "\n",
    "clf = RandomForestClassifier(n_estimators=100, random_state=42)\n",
    "clf.fit(X_train_scaled, y_train)\n",
    "y_pred = clf.predict(X_test_scaled)"
   ]
  },
  {
   "cell_type": "code",
   "execution_count": 9,
   "id": "211d6547",
   "metadata": {},
   "outputs": [
    {
     "name": "stdout",
     "output_type": "stream",
     "text": [
      "              precision    recall  f1-score   support\n",
      "\n",
      "           0       0.87      0.47      0.61        43\n",
      "           1       0.77      0.96      0.86        80\n",
      "\n",
      "    accuracy                           0.79       123\n",
      "   macro avg       0.82      0.71      0.73       123\n",
      "weighted avg       0.80      0.79      0.77       123\n",
      "\n",
      "[[20 23]\n",
      " [ 3 77]]\n"
     ]
    }
   ],
   "source": [
    "print(classification_report(y_test, y_pred))\n",
    "print(confusion_matrix(y_test, y_pred))"
   ]
  },
  {
   "cell_type": "code",
   "execution_count": 10,
   "id": "b2421f81",
   "metadata": {},
   "outputs": [
    {
     "data": {
      "text/plain": [
       "['scaler.pkl']"
      ]
     },
     "execution_count": 10,
     "metadata": {},
     "output_type": "execute_result"
    }
   ],
   "source": [
    "import joblib\n",
    "joblib.dump(clf, 'loan_model.pkl')\n",
    "joblib.dump(scaler, 'scaler.pkl')"
   ]
  },
  {
   "cell_type": "code",
   "execution_count": null,
   "id": "b0018bd1",
   "metadata": {},
   "outputs": [],
   "source": []
  }
 ],
 "metadata": {
  "kernelspec": {
   "display_name": "Python 3",
   "language": "python",
   "name": "python3"
  },
  "language_info": {
   "codemirror_mode": {
    "name": "ipython",
    "version": 3
   },
   "file_extension": ".py",
   "mimetype": "text/x-python",
   "name": "python",
   "nbconvert_exporter": "python",
   "pygments_lexer": "ipython3",
   "version": "3.13.3"
  }
 },
 "nbformat": 4,
 "nbformat_minor": 5
}
