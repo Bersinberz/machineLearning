{
 "cells": [
  {
   "cell_type": "code",
   "execution_count": 9,
   "id": "5bd3cf25",
   "metadata": {},
   "outputs": [],
   "source": [
    "from sklearn.datasets import load_wine\n",
    "from sklearn.utils import shuffle\n",
    "from sklearn.preprocessing import StandardScaler\n",
    "import numpy as np\n",
    "from sklearn.linear_model import LogisticRegression\n",
    "from sklearn.metrics import accuracy_score"
   ]
  },
  {
   "cell_type": "code",
   "execution_count": 10,
   "id": "c3543f53",
   "metadata": {},
   "outputs": [],
   "source": [
    "X, y = load_wine(return_X_y=True)"
   ]
  },
  {
   "cell_type": "code",
   "execution_count": 11,
   "id": "93c0e66e",
   "metadata": {},
   "outputs": [],
   "source": [
    "scaler = StandardScaler()\n",
    "X = scaler.fit_transform(X)\n",
    "X, y = shuffle(X, y, random_state=42)"
   ]
  },
  {
   "cell_type": "code",
   "execution_count": 12,
   "id": "25b5923d",
   "metadata": {},
   "outputs": [],
   "source": [
    "k = 5\n",
    "fold_size = len(X) // k\n",
    "accuracies = []"
   ]
  },
  {
   "cell_type": "code",
   "execution_count": 13,
   "id": "d559c76b",
   "metadata": {},
   "outputs": [],
   "source": [
    "for i in range(k):\n",
    "    start = i * fold_size\n",
    "    end = (i + 1) * fold_size\n",
    "\n",
    "    X_test = X[start:end]\n",
    "    y_test = y[start:end]\n",
    "\n",
    "    X_train = np.concatenate((X[:start], X[end:]), axis=0)\n",
    "    y_train = np.concatenate((y[:start], y[end:]), axis=0)\n",
    "\n",
    "    model = LogisticRegression(max_iter=5000)\n",
    "    model.fit(X_train, y_train)\n",
    "    y_pred = model.predict(X_test)\n",
    "\n",
    "    acc = accuracy_score(y_test, y_pred)\n",
    "    accuracies.append(acc)\n"
   ]
  },
  {
   "cell_type": "code",
   "execution_count": 14,
   "id": "45c6b2ef",
   "metadata": {},
   "outputs": [
    {
     "name": "stdout",
     "output_type": "stream",
     "text": [
      "Fold 1 Accuracy: 1.0000\n",
      "Fold 2 Accuracy: 0.9714\n",
      "Fold 3 Accuracy: 1.0000\n",
      "Fold 4 Accuracy: 0.9714\n",
      "Fold 5 Accuracy: 0.9714\n",
      "Average Accuracy: 0.9829\n"
     ]
    }
   ],
   "source": [
    "for i, acc in enumerate(accuracies):\n",
    "    print(f\"Fold {i+1} Accuracy: {acc:.4f}\")\n",
    "print(f\"Average Accuracy: {np.mean(accuracies):.4f}\")"
   ]
  }
 ],
 "metadata": {
  "kernelspec": {
   "display_name": "Python 3",
   "language": "python",
   "name": "python3"
  },
  "language_info": {
   "codemirror_mode": {
    "name": "ipython",
    "version": 3
   },
   "file_extension": ".py",
   "mimetype": "text/x-python",
   "name": "python",
   "nbconvert_exporter": "python",
   "pygments_lexer": "ipython3",
   "version": "3.13.3"
  }
 },
 "nbformat": 4,
 "nbformat_minor": 5
}
