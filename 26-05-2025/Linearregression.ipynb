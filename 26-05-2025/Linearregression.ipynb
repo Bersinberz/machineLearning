{
 "cells": [
  {
   "cell_type": "code",
   "execution_count": 8,
   "id": "0d78636f",
   "metadata": {},
   "outputs": [],
   "source": [
    "import numpy as np\n",
    "import pandas as pd"
   ]
  },
  {
   "cell_type": "code",
   "execution_count": 3,
   "id": "7b5a13a3",
   "metadata": {},
   "outputs": [],
   "source": [
    "data = pd.read_csv('Salary_Data.csv')"
   ]
  },
  {
   "cell_type": "code",
   "execution_count": 14,
   "id": "aeef2b88",
   "metadata": {},
   "outputs": [],
   "source": [
    "x = data['YearsExperience'].to_numpy()\n",
    "y = data['Salary'].to_numpy()"
   ]
  },
  {
   "cell_type": "code",
   "execution_count": 15,
   "id": "1e379270",
   "metadata": {},
   "outputs": [],
   "source": [
    "x_mean = np.mean(x)\n",
    "y_mean = np.mean(y)"
   ]
  },
  {
   "cell_type": "code",
   "execution_count": 18,
   "id": "4a9f1844",
   "metadata": {},
   "outputs": [
    {
     "name": "stdout",
     "output_type": "stream",
     "text": [
      "Regression Line: y = -312.59x + 77663.90\n"
     ]
    }
   ],
   "source": [
    "numerator = np.sum((x - x_mean) * y - (y_mean))\n",
    "denominator = np.sum((x - x_mean)**2)\n",
    "m = numerator / denominator\n",
    "c = y_mean - m * x_mean\n",
    "\n",
    "print(f\"Regression Line: y = {m:.2f}x + {c:.2f}\")"
   ]
  },
  {
   "cell_type": "code",
   "execution_count": 19,
   "id": "66de3ff8",
   "metadata": {},
   "outputs": [],
   "source": [
    "y_pred = m * x + c"
   ]
  },
  {
   "cell_type": "code",
   "execution_count": 21,
   "id": "a0e833d3",
   "metadata": {},
   "outputs": [
    {
     "name": "stdout",
     "output_type": "stream",
     "text": [
      "Mean Squared Error : 773254328.65\n"
     ]
    }
   ],
   "source": [
    "mse = np.mean((y - y_pred)**2)\n",
    "print(f\"Mean Squared Error : {mse:.2f}\")"
   ]
  },
  {
   "cell_type": "code",
   "execution_count": 22,
   "id": "cdd936fe",
   "metadata": {},
   "outputs": [
    {
     "name": "stdout",
     "output_type": "stream",
     "text": [
      "Root Mean Squared Error : 27807.45\n"
     ]
    }
   ],
   "source": [
    "rmse = np.sqrt(mse)\n",
    "print(f\"Root Mean Squared Error : {rmse:.2f}\")"
   ]
  },
  {
   "cell_type": "code",
   "execution_count": 26,
   "id": "08ef04dd",
   "metadata": {},
   "outputs": [
    {
     "name": "stdout",
     "output_type": "stream",
     "text": [
      "r2 : -0.06\n"
     ]
    }
   ],
   "source": [
    "ss_total = np.sum((y - np.mean(y))**2)\n",
    "ss_res = np.sum((y - y_pred)**2)\n",
    "r2 = 1 - (ss_res / ss_total)\n",
    "print(f\"r2 : {r2:.2f}\")"
   ]
  }
 ],
 "metadata": {
  "kernelspec": {
   "display_name": "Python 3",
   "language": "python",
   "name": "python3"
  },
  "language_info": {
   "codemirror_mode": {
    "name": "ipython",
    "version": 3
   },
   "file_extension": ".py",
   "mimetype": "text/x-python",
   "name": "python",
   "nbconvert_exporter": "python",
   "pygments_lexer": "ipython3",
   "version": "3.13.3"
  }
 },
 "nbformat": 4,
 "nbformat_minor": 5
}
